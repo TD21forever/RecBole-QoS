{
 "cells": [
  {
   "cell_type": "code",
   "execution_count": 2,
   "metadata": {},
   "outputs": [
    {
     "name": "stderr",
     "output_type": "stream",
     "text": [
      "/home/yuwenzhuo/.conda/envs/gnn/lib/python3.9/site-packages/tqdm/auto.py:21: TqdmWarning: IProgress not found. Please update jupyter and ipywidgets. See https://ipywidgets.readthedocs.io/en/stable/user_install.html\n",
      "  from .autonotebook import tqdm as notebook_tqdm\n"
     ]
    }
   ],
   "source": [
    "\n",
    "import argparse\n",
    "import copy\n",
    "import os\n",
    "from enum import Enum\n",
    "from typing import Dict, List, Union\n",
    "\n",
    "import numpy as np\n",
    "import pandas as pd\n",
    "import torch\n",
    "from config.configuration import Config\n",
    "from data.dataloader import GeneralTrainerDataLoader\n",
    "from data.dataset import GeneralDataset\n",
    "from data.interaction import Interaction\n",
    "from data.utils import data_reparation\n",
    "from models import NeuMF\n",
    "from root import DATASET_DIR, ROOT_DIR, absolute\n",
    "from torch.nn.utils import rnn as rnn_utils\n",
    "from torch.utils.data import Dataset as TorchDataset\n",
    "from trainer import Trainer\n",
    "from utils.logger import init_logger\n",
    "import hashlib"
   ]
  },
  {
   "cell_type": "code",
   "execution_count": 5,
   "metadata": {},
   "outputs": [
    {
     "name": "stdout",
     "output_type": "stream",
     "text": [
      "tensor([[1, 4, 7],\n",
      "        [2, 5, 8],\n",
      "        [3, 6, 9]])\n",
      "[[1, 2, 3], [4, 5, 6], [7, 8, 9]]\n"
     ]
    }
   ],
   "source": [
    "# 创建tensor\n",
    "a = torch.tensor([1, 2, 3])\n",
    "b = torch.tensor([4, 5, 6])\n",
    "c = torch.tensor([7, 8, 9])\n",
    "\n",
    "# 使用stack沿着一个新维度（这里是第0维）合并张量\n",
    "stacked = torch.stack([a, b, c], 1)\n",
    "print(stacked)\n",
    "\n",
    "# 由于stack函数会将张量合并为一个新的维度，我们需要对张量进行转置来获得你想要的格式\n",
    "result = stacked.transpose(0, 1)\n",
    "\n",
    "# 如果你需要将结果转换为列表的列表\n",
    "result_list = result.tolist()\n",
    "\n",
    "print(result_list)  # 输出：[[1, 4, 7], [2, 5, 8], [3, 6, 9]]\n",
    "\n"
   ]
  },
  {
   "cell_type": "markdown",
   "metadata": {},
   "source": [
    "### TODO\n",
    "- 添加验证集\n",
    "- NGCF\n",
    "- LightGCN\n",
    "- 所有代码整体过一遍\n",
    "- tensorboard\n",
    "- 训练参数整理\n",
    "- checkpoint逻辑\n",
    "- 日志 ✅"
   ]
  },
  {
   "cell_type": "code",
   "execution_count": null,
   "metadata": {},
   "outputs": [],
   "source": [
    "\n",
    "parser = argparse.ArgumentParser()\n",
    "parser.add_argument(\n",
    "    \"--dataset\", \"-d\", type=str, default=\"wsdream-rt\", help=\"name of datasets\"\n",
    ")\n",
    "\n",
    "args, _ = parser.parse_known_args()\n",
    "\n",
    "config = Config(model=\"NeuMF\", dataset=args.dataset)\n",
    "\n",
    "\n",
    "init_logger(config)\n",
    "\n",
    "dataset = GeneralDataset(config)\n",
    "train_data, test_data = data_reparation(config, dataset)\n",
    "model = NeuMF(config, dataset)\n",
    "trainer = Trainer(config, model)\n",
    "\n",
    "trainer.fit(train_data, test_data, saved=False, show_progress=True)\n"
   ]
  }
 ],
 "metadata": {
  "kernelspec": {
   "display_name": "gnn",
   "language": "python",
   "name": "python3"
  },
  "language_info": {
   "codemirror_mode": {
    "name": "ipython",
    "version": 3
   },
   "file_extension": ".py",
   "mimetype": "text/x-python",
   "name": "python",
   "nbconvert_exporter": "python",
   "pygments_lexer": "ipython3",
   "version": "3.9.17"
  },
  "orig_nbformat": 4
 },
 "nbformat": 4,
 "nbformat_minor": 2
}
