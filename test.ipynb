{
 "cells": [
  {
   "cell_type": "code",
   "execution_count": 1,
   "metadata": {},
   "outputs": [],
   "source": [
    "\n",
    "import argparse\n",
    "import copy\n",
    "import os\n",
    "from enum import Enum\n",
    "from typing import Dict, List, Union\n",
    "\n",
    "import numpy as np\n",
    "import pandas as pd\n",
    "import torch\n",
    "from config.configuration import Config\n",
    "from data.dataloader import GeneralTrainerDataLoader\n",
    "from data.dataset import GeneralDataset\n",
    "from data.interaction import Interaction\n",
    "from data.utils import data_reparation\n",
    "from models import NeuMF\n",
    "from root import DATASET_DIR, ROOT_DIR, absolute\n",
    "from torch.nn.utils import rnn as rnn_utils\n",
    "from torch.utils.data import Dataset as TorchDataset\n",
    "from trainer import Trainer\n",
    "from utils.logger import init_logger"
   ]
  },
  {
   "cell_type": "markdown",
   "metadata": {},
   "source": [
    "### TODO\n",
    "- 添加验证集\n",
    "- NGCF\n",
    "- LightGCN\n",
    "- 所有代码整体过一遍\n",
    "- tensorboard\n",
    "- 训练参数整理\n",
    "- checkpoint逻辑\n",
    "- 日志 ✅"
   ]
  },
  {
   "cell_type": "code",
   "execution_count": 3,
   "metadata": {},
   "outputs": [
    {
     "name": "stderr",
     "output_type": "stream",
     "text": [
      "Train     0:   0%|                                                           | 0/49 [00:00<?, ?it/s]:  18%|█████████▎                                         | 9/49 [00:00<00:00, 87.18it/s]:  39%|███████████████████▍                              | 19/49 [00:00<00:00, 90.76it/s]:  59%|█████████████████████████████▌                    | 29/49 [00:00<00:00, 94.44it/s]:  80%|███████████████████████████████████████▊          | 39/49 [00:00<00:00, 96.13it/s]: 100%|██████████████████████████████████████████████████| 49/49 [00:00<00:00, 96.06it/s]\n",
      "23-09-07 03:12:32 INFO  epoch 0 training [time: 0.51s, train loss: 38.6221]\n",
      "Evaluate   :   0%|                                                          | 0/458 [00:00<?, ?it/s]:  20%|█████████▋                                      | 92/458 [00:00<00:00, 919.71it/s]:  40%|██████████████████▉                            | 184/458 [00:00<00:00, 778.77it/s]:  58%|███████████████████████████                    | 264/458 [00:00<00:00, 651.97it/s]:  72%|██████████████████████████████████             | 332/458 [00:00<00:00, 564.39it/s]:  85%|████████████████████████████████████████       | 391/458 [00:00<00:00, 509.87it/s]:  97%|█████████████████████████████████████████████▌ | 444/458 [00:00<00:00, 460.82it/s]: 100%|███████████████████████████████████████████████| 458/458 [00:00<00:00, 530.51it/s]\n",
      "23-09-07 03:12:33 INFO  epoch 0 evaluating [time: 0.88s, valid_score: 516813.000000]\n",
      "23-09-07 03:12:33 INFO  valid result: \n",
      "rmse : 673705    mae : 516813\n",
      "Train     1:   0%|                                                           | 0/49 [00:00<?, ?it/s]:  20%|██████████▏                                       | 10/49 [00:00<00:00, 94.60it/s]:  41%|████████████████████▍                             | 20/49 [00:00<00:00, 96.25it/s]:  61%|██████████████████████████████▌                   | 30/49 [00:00<00:00, 95.34it/s]:  82%|████████████████████████████████████████▊         | 40/49 [00:00<00:00, 90.86it/s]: 100%|██████████████████████████████████████████████████| 49/49 [00:00<00:00, 91.46it/s]\n",
      "23-09-07 03:12:33 INFO  epoch 1 training [time: 0.54s, train loss: 33.0060]\n",
      "Evaluate   :   0%|                                                          | 0/458 [00:00<?, ?it/s]:  19%|█████████                                       | 87/458 [00:00<00:00, 940.23it/s]\n"
     ]
    },
    {
     "ename": "KeyboardInterrupt",
     "evalue": "",
     "output_type": "error",
     "traceback": [
      "\u001b[0;31m---------------------------------------------------------------------------\u001b[0m",
      "\u001b[0;31mKeyboardInterrupt\u001b[0m                         Traceback (most recent call last)",
      "Cell \u001b[0;32mIn[3], line 18\u001b[0m\n\u001b[1;32m     15\u001b[0m model \u001b[39m=\u001b[39m NeuMF(config, dataset)\n\u001b[1;32m     16\u001b[0m trainer \u001b[39m=\u001b[39m Trainer(config, model)\n\u001b[0;32m---> 18\u001b[0m trainer\u001b[39m.\u001b[39;49mfit(train_data, test_data, saved\u001b[39m=\u001b[39;49m\u001b[39mFalse\u001b[39;49;00m, show_progress\u001b[39m=\u001b[39;49m\u001b[39mTrue\u001b[39;49;00m)\n",
      "File \u001b[0;32m~/Desktop/graph/RecBole-QoS/trainer/trainer.py:443\u001b[0m, in \u001b[0;36mTrainer.fit\u001b[0;34m(self, train_data, valid_data, verbose, saved, show_progress, callback_fn)\u001b[0m\n\u001b[1;32m    441\u001b[0m \u001b[39mif\u001b[39;00m (epoch_idx \u001b[39m+\u001b[39m \u001b[39m1\u001b[39m) \u001b[39m%\u001b[39m \u001b[39mself\u001b[39m\u001b[39m.\u001b[39meval_step \u001b[39m==\u001b[39m \u001b[39m0\u001b[39m:\n\u001b[1;32m    442\u001b[0m     valid_start_time \u001b[39m=\u001b[39m time\u001b[39m.\u001b[39mtime()\n\u001b[0;32m--> 443\u001b[0m     valid_score, valid_result \u001b[39m=\u001b[39m \u001b[39mself\u001b[39;49m\u001b[39m.\u001b[39;49m_valid_epoch(\n\u001b[1;32m    444\u001b[0m         valid_data, show_progress\u001b[39m=\u001b[39;49mshow_progress\n\u001b[1;32m    445\u001b[0m     )\n\u001b[1;32m    447\u001b[0m     (\n\u001b[1;32m    448\u001b[0m         \u001b[39mself\u001b[39m\u001b[39m.\u001b[39mbest_valid_score,\n\u001b[1;32m    449\u001b[0m         \u001b[39mself\u001b[39m\u001b[39m.\u001b[39mcur_step,\n\u001b[0;32m   (...)\u001b[0m\n\u001b[1;32m    457\u001b[0m         bigger\u001b[39m=\u001b[39m\u001b[39mself\u001b[39m\u001b[39m.\u001b[39mvalid_metric_bigger,\n\u001b[1;32m    458\u001b[0m     )\n\u001b[1;32m    459\u001b[0m     valid_end_time \u001b[39m=\u001b[39m time\u001b[39m.\u001b[39mtime()\n",
      "File \u001b[0;32m~/Desktop/graph/RecBole-QoS/trainer/trainer.py:252\u001b[0m, in \u001b[0;36mTrainer._valid_epoch\u001b[0;34m(self, valid_data, show_progress)\u001b[0m\n\u001b[1;32m    241\u001b[0m \u001b[39mdef\u001b[39;00m \u001b[39m_valid_epoch\u001b[39m(\u001b[39mself\u001b[39m, valid_data, show_progress\u001b[39m=\u001b[39m\u001b[39mFalse\u001b[39;00m):\n\u001b[1;32m    242\u001b[0m \u001b[39m    \u001b[39m\u001b[39mr\u001b[39m\u001b[39m\"\"\"Valid the model with valid data\u001b[39;00m\n\u001b[1;32m    243\u001b[0m \n\u001b[1;32m    244\u001b[0m \u001b[39m    Args:\u001b[39;00m\n\u001b[0;32m   (...)\u001b[0m\n\u001b[1;32m    250\u001b[0m \u001b[39m        dict: valid result\u001b[39;00m\n\u001b[1;32m    251\u001b[0m \u001b[39m    \"\"\"\u001b[39;00m\n\u001b[0;32m--> 252\u001b[0m     valid_result \u001b[39m=\u001b[39m \u001b[39mself\u001b[39;49m\u001b[39m.\u001b[39;49mevaluate(\n\u001b[1;32m    253\u001b[0m         valid_data, show_progress\u001b[39m=\u001b[39;49mshow_progress\n\u001b[1;32m    254\u001b[0m     )\n\u001b[1;32m    255\u001b[0m     valid_score \u001b[39m=\u001b[39m valid_result[\u001b[39mself\u001b[39m\u001b[39m.\u001b[39mvalid_metric]\n\u001b[1;32m    256\u001b[0m     \u001b[39mreturn\u001b[39;00m valid_score, valid_result\n",
      "File \u001b[0;32m~/opt/anaconda3/envs/gnn/lib/python3.9/site-packages/torch/utils/_contextlib.py:115\u001b[0m, in \u001b[0;36mcontext_decorator.<locals>.decorate_context\u001b[0;34m(*args, **kwargs)\u001b[0m\n\u001b[1;32m    112\u001b[0m \u001b[39m@functools\u001b[39m\u001b[39m.\u001b[39mwraps(func)\n\u001b[1;32m    113\u001b[0m \u001b[39mdef\u001b[39;00m \u001b[39mdecorate_context\u001b[39m(\u001b[39m*\u001b[39margs, \u001b[39m*\u001b[39m\u001b[39m*\u001b[39mkwargs):\n\u001b[1;32m    114\u001b[0m     \u001b[39mwith\u001b[39;00m ctx_factory():\n\u001b[0;32m--> 115\u001b[0m         \u001b[39mreturn\u001b[39;00m func(\u001b[39m*\u001b[39;49margs, \u001b[39m*\u001b[39;49m\u001b[39m*\u001b[39;49mkwargs)\n",
      "File \u001b[0;32m~/Desktop/graph/RecBole-QoS/trainer/trainer.py:272\u001b[0m, in \u001b[0;36mTrainer.evaluate\u001b[0;34m(self, eval_data, show_progress)\u001b[0m\n\u001b[1;32m    261\u001b[0m iter_data \u001b[39m=\u001b[39m (\n\u001b[1;32m    262\u001b[0m     tqdm(\n\u001b[1;32m    263\u001b[0m         eval_data,\n\u001b[0;32m   (...)\u001b[0m\n\u001b[1;32m    269\u001b[0m     \u001b[39melse\u001b[39;00m eval_data\n\u001b[1;32m    270\u001b[0m )\n\u001b[1;32m    271\u001b[0m num_sample \u001b[39m=\u001b[39m \u001b[39m0\u001b[39m\n\u001b[0;32m--> 272\u001b[0m \u001b[39mfor\u001b[39;00m batch_idx, batched_data \u001b[39min\u001b[39;00m \u001b[39menumerate\u001b[39m(iter_data):\n\u001b[1;32m    273\u001b[0m     num_sample \u001b[39m+\u001b[39m\u001b[39m=\u001b[39m \u001b[39mlen\u001b[39m(batched_data)\n\u001b[1;32m    274\u001b[0m     interaction, origin_scores, positive_u, positive_i \u001b[39m=\u001b[39m \u001b[39mself\u001b[39m\u001b[39m.\u001b[39meval_func(\n\u001b[1;32m    275\u001b[0m         batched_data)\n",
      "File \u001b[0;32m~/opt/anaconda3/envs/gnn/lib/python3.9/site-packages/tqdm/std.py:1182\u001b[0m, in \u001b[0;36mtqdm.__iter__\u001b[0;34m(self)\u001b[0m\n\u001b[1;32m   1179\u001b[0m time \u001b[39m=\u001b[39m \u001b[39mself\u001b[39m\u001b[39m.\u001b[39m_time\n\u001b[1;32m   1181\u001b[0m \u001b[39mtry\u001b[39;00m:\n\u001b[0;32m-> 1182\u001b[0m     \u001b[39mfor\u001b[39;00m obj \u001b[39min\u001b[39;00m iterable:\n\u001b[1;32m   1183\u001b[0m         \u001b[39myield\u001b[39;00m obj\n\u001b[1;32m   1184\u001b[0m         \u001b[39m# Update and possibly print the progressbar.\u001b[39;00m\n\u001b[1;32m   1185\u001b[0m         \u001b[39m# Note: does not call self.update(1) for speed optimisation.\u001b[39;00m\n",
      "File \u001b[0;32m~/opt/anaconda3/envs/gnn/lib/python3.9/site-packages/torch/utils/data/dataloader.py:633\u001b[0m, in \u001b[0;36m_BaseDataLoaderIter.__next__\u001b[0;34m(self)\u001b[0m\n\u001b[1;32m    630\u001b[0m \u001b[39mif\u001b[39;00m \u001b[39mself\u001b[39m\u001b[39m.\u001b[39m_sampler_iter \u001b[39mis\u001b[39;00m \u001b[39mNone\u001b[39;00m:\n\u001b[1;32m    631\u001b[0m     \u001b[39m# TODO(https://github.com/pytorch/pytorch/issues/76750)\u001b[39;00m\n\u001b[1;32m    632\u001b[0m     \u001b[39mself\u001b[39m\u001b[39m.\u001b[39m_reset()  \u001b[39m# type: ignore[call-arg]\u001b[39;00m\n\u001b[0;32m--> 633\u001b[0m data \u001b[39m=\u001b[39m \u001b[39mself\u001b[39;49m\u001b[39m.\u001b[39;49m_next_data()\n\u001b[1;32m    634\u001b[0m \u001b[39mself\u001b[39m\u001b[39m.\u001b[39m_num_yielded \u001b[39m+\u001b[39m\u001b[39m=\u001b[39m \u001b[39m1\u001b[39m\n\u001b[1;32m    635\u001b[0m \u001b[39mif\u001b[39;00m \u001b[39mself\u001b[39m\u001b[39m.\u001b[39m_dataset_kind \u001b[39m==\u001b[39m _DatasetKind\u001b[39m.\u001b[39mIterable \u001b[39mand\u001b[39;00m \\\n\u001b[1;32m    636\u001b[0m         \u001b[39mself\u001b[39m\u001b[39m.\u001b[39m_IterableDataset_len_called \u001b[39mis\u001b[39;00m \u001b[39mnot\u001b[39;00m \u001b[39mNone\u001b[39;00m \u001b[39mand\u001b[39;00m \\\n\u001b[1;32m    637\u001b[0m         \u001b[39mself\u001b[39m\u001b[39m.\u001b[39m_num_yielded \u001b[39m>\u001b[39m \u001b[39mself\u001b[39m\u001b[39m.\u001b[39m_IterableDataset_len_called:\n",
      "File \u001b[0;32m~/opt/anaconda3/envs/gnn/lib/python3.9/site-packages/torch/utils/data/dataloader.py:676\u001b[0m, in \u001b[0;36m_SingleProcessDataLoaderIter._next_data\u001b[0;34m(self)\u001b[0m\n\u001b[1;32m    675\u001b[0m \u001b[39mdef\u001b[39;00m \u001b[39m_next_data\u001b[39m(\u001b[39mself\u001b[39m):\n\u001b[0;32m--> 676\u001b[0m     index \u001b[39m=\u001b[39m \u001b[39mself\u001b[39;49m\u001b[39m.\u001b[39;49m_next_index()  \u001b[39m# may raise StopIteration\u001b[39;00m\n\u001b[1;32m    677\u001b[0m     data \u001b[39m=\u001b[39m \u001b[39mself\u001b[39m\u001b[39m.\u001b[39m_dataset_fetcher\u001b[39m.\u001b[39mfetch(index)  \u001b[39m# may raise StopIteration\u001b[39;00m\n\u001b[1;32m    678\u001b[0m     \u001b[39mif\u001b[39;00m \u001b[39mself\u001b[39m\u001b[39m.\u001b[39m_pin_memory:\n",
      "File \u001b[0;32m~/opt/anaconda3/envs/gnn/lib/python3.9/site-packages/torch/utils/data/dataloader.py:623\u001b[0m, in \u001b[0;36m_BaseDataLoaderIter._next_index\u001b[0;34m(self)\u001b[0m\n\u001b[1;32m    622\u001b[0m \u001b[39mdef\u001b[39;00m \u001b[39m_next_index\u001b[39m(\u001b[39mself\u001b[39m):\n\u001b[0;32m--> 623\u001b[0m     \u001b[39mreturn\u001b[39;00m \u001b[39mnext\u001b[39;49m(\u001b[39mself\u001b[39;49m\u001b[39m.\u001b[39;49m_sampler_iter)\n",
      "File \u001b[0;32m~/opt/anaconda3/envs/gnn/lib/python3.9/site-packages/torch/utils/data/sampler.py:257\u001b[0m, in \u001b[0;36mBatchSampler.__iter__\u001b[0;34m(self)\u001b[0m\n\u001b[1;32m    255\u001b[0m batch[idx_in_batch] \u001b[39m=\u001b[39m idx\n\u001b[1;32m    256\u001b[0m idx_in_batch \u001b[39m+\u001b[39m\u001b[39m=\u001b[39m \u001b[39m1\u001b[39m\n\u001b[0;32m--> 257\u001b[0m \u001b[39mif\u001b[39;00m idx_in_batch \u001b[39m==\u001b[39m \u001b[39mself\u001b[39;49m\u001b[39m.\u001b[39;49mbatch_size:\n\u001b[1;32m    258\u001b[0m     \u001b[39myield\u001b[39;00m batch\n\u001b[1;32m    259\u001b[0m     idx_in_batch \u001b[39m=\u001b[39m \u001b[39m0\u001b[39m\n",
      "\u001b[0;31mKeyboardInterrupt\u001b[0m: "
     ]
    }
   ],
   "source": [
    "\n",
    "parser = argparse.ArgumentParser()\n",
    "parser.add_argument(\n",
    "    \"--dataset\", \"-d\", type=str, default=\"wsdream-rt\", help=\"name of datasets\"\n",
    ")\n",
    "\n",
    "args, _ = parser.parse_known_args()\n",
    "\n",
    "config = Config(model=\"NeuMF\", dataset=args.dataset)\n",
    "\n",
    "\n",
    "init_logger(config)\n",
    "\n",
    "dataset = GeneralDataset(config)\n",
    "train_data, test_data = data_reparation(config, dataset)\n",
    "model = NeuMF(config, dataset)\n",
    "trainer = Trainer(config, model)\n",
    "\n",
    "trainer.fit(train_data, test_data, saved=False, show_progress=True)\n"
   ]
  },
  {
   "cell_type": "code",
   "execution_count": null,
   "metadata": {},
   "outputs": [],
   "source": []
  }
 ],
 "metadata": {
  "kernelspec": {
   "display_name": "gnn",
   "language": "python",
   "name": "python3"
  },
  "language_info": {
   "codemirror_mode": {
    "name": "ipython",
    "version": 3
   },
   "file_extension": ".py",
   "mimetype": "text/x-python",
   "name": "python",
   "nbconvert_exporter": "python",
   "pygments_lexer": "ipython3",
   "version": "3.9.18"
  },
  "orig_nbformat": 4
 },
 "nbformat": 4,
 "nbformat_minor": 2
}
