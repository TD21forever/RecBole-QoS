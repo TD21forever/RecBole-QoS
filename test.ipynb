{
 "cells": [
  {
   "cell_type": "code",
   "execution_count": null,
   "metadata": {},
   "outputs": [],
   "source": [
    "\n",
    "import argparse\n",
    "import copy\n",
    "import os\n",
    "from enum import Enum\n",
    "from typing import Dict, List, Union\n",
    "\n",
    "import numpy as np\n",
    "import pandas as pd\n",
    "import torch\n",
    "from config.configuration import Config\n",
    "from data.dataloader import GeneralTrainerDataLoader\n",
    "from data.dataset import GeneralDataset\n",
    "from data.interaction import Interaction\n",
    "from data.utils import data_reparation\n",
    "from models import NeuMF\n",
    "from root import DATASET_DIR, ROOT_DIR, absolute\n",
    "from torch.nn.utils import rnn as rnn_utils\n",
    "from torch.utils.data import Dataset as TorchDataset\n",
    "from trainer import Trainer\n",
    "from utils.logger import init_logger"
   ]
  },
  {
   "cell_type": "markdown",
   "metadata": {},
   "source": [
    "### TODO\n",
    "- 添加验证集\n",
    "- NGCF\n",
    "- LightGCN\n",
    "- 所有代码整体过一遍\n",
    "- tensorboard\n",
    "- 训练参数整理\n",
    "- checkpoint逻辑\n",
    "- 日志 ✅"
   ]
  },
  {
   "cell_type": "code",
   "execution_count": null,
   "metadata": {},
   "outputs": [],
   "source": [
    "\n",
    "parser = argparse.ArgumentParser()\n",
    "parser.add_argument(\n",
    "    \"--dataset\", \"-d\", type=str, default=\"wsdream-rt\", help=\"name of datasets\"\n",
    ")\n",
    "\n",
    "args, _ = parser.parse_known_args()\n",
    "\n",
    "config = Config(model=\"NeuMF\", dataset=args.dataset)\n",
    "\n",
    "\n",
    "init_logger(config)\n",
    "\n",
    "dataset = GeneralDataset(config)\n",
    "train_data, test_data = data_reparation(config, dataset)\n",
    "model = NeuMF(config, dataset)\n",
    "trainer = Trainer(config, model)\n",
    "\n",
    "trainer.fit(train_data, test_data, saved=False, show_progress=True)\n"
   ]
  },
  {
   "cell_type": "code",
   "execution_count": 1,
   "metadata": {},
   "outputs": [
    {
     "name": "stdout",
     "output_type": "stream",
     "text": [
      "采样数据:\n",
      "[55 88  5 74 71 98  3 46 30 92 48 24 40 64  4 21 54 76 16 22]\n",
      "剩下的数据:\n",
      "[ 0  1  2  6  7  8  9 10 11 12 13 14 15 17 18 19 20 23 25 26 27 28 29 31\n",
      " 32 33 34 35 36 37 38 39 41 42 43 44 45 47 49 50 51 52 53 56 57 58 59 60\n",
      " 61 62 63 65 66 67 68 69 70 72 73 75 77 78 79 80 81 82 83 84 85 86 87 89\n",
      " 90 91 93 94 95 96 97 99]\n"
     ]
    }
   ],
   "source": [
    "import numpy as np\n",
    "\n",
    "# 生成0到99的数字数组\n",
    "data = np.arange(100)\n",
    "\n",
    "# 随机采样20%的数据\n",
    "sampled_data = np.random.choice(data, size=int(len(data) * 0.2), replace=False)\n",
    "\n",
    "# 获取剩下的数据\n",
    "remaining_data = np.setdiff1d(data, sampled_data)\n",
    "\n",
    "print(\"采样数据:\")\n",
    "print(sampled_data)\n",
    "\n",
    "print(\"剩下的数据:\")\n",
    "print(remaining_data)"
   ]
  }
 ],
 "metadata": {
  "kernelspec": {
   "display_name": "gnn",
   "language": "python",
   "name": "python3"
  },
  "language_info": {
   "codemirror_mode": {
    "name": "ipython",
    "version": 3
   },
   "file_extension": ".py",
   "mimetype": "text/x-python",
   "name": "python",
   "nbconvert_exporter": "python",
   "pygments_lexer": "ipython3",
   "version": "3.9.18"
  },
  "orig_nbformat": 4
 },
 "nbformat": 4,
 "nbformat_minor": 2
}
