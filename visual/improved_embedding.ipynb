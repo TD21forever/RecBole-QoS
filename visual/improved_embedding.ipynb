{
 "cells": [
  {
   "cell_type": "code",
   "execution_count": null,
   "metadata": {},
   "outputs": [],
   "source": [
    "import sys\n",
    "\n",
    "sys.path.append(\"..\")\n",
    "import argparse\n",
    "import warnings\n",
    "from logging import getLogger\n",
    "\n",
    "import matplotlib.pyplot as plt\n",
    "import numpy as np\n",
    "import pandas as pd\n",
    "import torch\n",
    "from torch.utils.tensorboard import SummaryWriter\n",
    "from mpl_toolkits.mplot3d import Axes3D\n",
    "from recbole.utils import init_seed, set_color\n",
    "from sklearn.decomposition import PCA\n",
    "\n",
    "from config.configuration import Config\n",
    "from data.dataset import GeneralDataset, GeneralGraphDataset\n",
    "from data.utils import data_reparation\n",
    "from models.embedding import (EmbeddingHelper, EmbeddingModel, EmbeddingType,\n",
    "                              TemplateType)\n",
    "from trainer import Trainer\n",
    "from utils.logger import init_logger\n",
    "from utils.utils import get_flops, get_model\n"
   ]
  },
  {
   "cell_type": "code",
   "execution_count": null,
   "metadata": {},
   "outputs": [],
   "source": [
    "writer = SummaryWriter(\"./embeddings\")"
   ]
  },
  {
   "cell_type": "code",
   "execution_count": null,
   "metadata": {},
   "outputs": [],
   "source": [
    "\n",
    "parser = argparse.ArgumentParser()\n",
    "\n",
    "parser.add_argument(\n",
    "    \"--dataset\", \"-d\", type=str, default=\"wsdream-tp\", help=\"name of datasets\"\n",
    ")\n",
    "\n",
    "parser.add_argument(\n",
    "    \"--model\", \"-m\", type=str, default=\"XXX\", help=\"name of models\"\n",
    ")\n",
    "\n",
    "args, _ = parser.parse_known_args()\n",
    "\n",
    "config = Config(model=args.model, dataset=args.dataset)\n",
    "\n",
    "dataset = GeneralGraphDataset(config)\n",
    "train_data, test_data = data_reparation(config, dataset)\n"
   ]
  },
  {
   "cell_type": "code",
   "execution_count": null,
   "metadata": {},
   "outputs": [],
   "source": [
    "dataset.user_feat[\"country\"]"
   ]
  },
  {
   "cell_type": "code",
   "execution_count": null,
   "metadata": {},
   "outputs": [],
   "source": [
    "def get_pretrained_embedding(dataset, template_type:TemplateType):\n",
    "    eh = EmbeddingHelper()\n",
    "    user_invocations = {}\n",
    "    item_invocations = {}\n",
    "    for uid in dataset.uids_in_inter_feat:\n",
    "        user_invocations[uid] = dataset.inter_data_by_type(\"user\", uid)\n",
    "    for iid in dataset.iids_in_inter_feat:\n",
    "        item_invocations[iid] = dataset.inter_data_by_type(\"item\", iid)\n",
    "    user_embedding = torch.Tensor(eh.fit(EmbeddingType.USER, template_type,\n",
    "                                    EmbeddingModel.INSTRUCTOR_BGE_SMALL, invocations=user_invocations, auto_save=False))\n",
    "    item_embedding = torch.Tensor(eh.fit(EmbeddingType.ITEM, template_type,\n",
    "                                    EmbeddingModel.INSTRUCTOR_BGE_SMALL, invocations=item_invocations, auto_save=False))\n",
    "    \n",
    "    # user_embedding = torch.nn.Embedding(\n",
    "    #         num_embeddings=339, embedding_dim=384).weight\n",
    "    # item_embedding = torch.nn.Embedding(\n",
    "    #         num_embeddings=5825, embedding_dim=384).weight\n",
    "    return user_embedding,item_embedding\n",
    "\n",
    "u_embedding, i_embedding = get_pretrained_embedding(train_data.dataset, TemplateType.IMPROVED)\n",
    "\n",
    "uids = list(range(len(u_embedding)))\n",
    "iids = list(range(len(i_embedding)))\n",
    "\n",
    "writer.add_embedding(u_embedding, metadata=uids, tag=\"User Embeddings - IMPROVED\")\n",
    "writer.add_embedding(i_embedding, metadata=iids, tag=\"Item Embeddings - IMPROVED\")\n"
   ]
  },
  {
   "cell_type": "code",
   "execution_count": null,
   "metadata": {},
   "outputs": [],
   "source": [
    "def get_pretrained_embedding(dataset, template_type:TemplateType):\n",
    "    eh = EmbeddingHelper()\n",
    "    user_invocations = {}\n",
    "    item_invocations = {}\n",
    "    for uid in dataset.uids_in_inter_feat:\n",
    "        user_invocations[uid] = dataset.inter_data_by_type(\"user\", uid)\n",
    "    for iid in dataset.iids_in_inter_feat:\n",
    "        item_invocations[iid] = dataset.inter_data_by_type(\"item\", iid)\n",
    "    user_embedding = torch.Tensor(eh.fit(EmbeddingType.USER, template_type,\n",
    "                                    EmbeddingModel.INSTRUCTOR_BGE_SMALL, invocations=user_invocations, auto_save=False))\n",
    "    item_embedding = torch.Tensor(eh.fit(EmbeddingType.ITEM, template_type,\n",
    "                                    EmbeddingModel.INSTRUCTOR_BGE_SMALL, invocations=item_invocations, auto_save=False))\n",
    "    \n",
    "    return user_embedding, item_embedding\n",
    "\n",
    "u_embedding, i_embedding = get_pretrained_embedding(train_data.dataset, TemplateType.IMPROVED)\n",
    "\n",
    "uids = list(dataset.user_feat[\"country\"])\n",
    "iids = list(dataset.item_feat[\"country\"])\n",
    "\n",
    "writer.add_embedding(u_embedding, metadata=uids, tag=\"User Embeddings - IMPROVED_country\")\n",
    "writer.add_embedding(i_embedding, metadata=iids, tag=\"Item Embeddings - IMPROVED_country\")\n"
   ]
  },
  {
   "cell_type": "code",
   "execution_count": null,
   "metadata": {},
   "outputs": [],
   "source": []
  }
 ],
 "metadata": {
  "kernelspec": {
   "display_name": "gnn",
   "language": "python",
   "name": "python3"
  },
  "language_info": {
   "codemirror_mode": {
    "name": "ipython",
    "version": 3
   },
   "file_extension": ".py",
   "mimetype": "text/x-python",
   "name": "python",
   "nbconvert_exporter": "python",
   "pygments_lexer": "ipython3",
   "version": "3.9.17"
  }
 },
 "nbformat": 4,
 "nbformat_minor": 2
}
