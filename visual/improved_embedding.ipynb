{
 "cells": [
  {
   "cell_type": "code",
   "execution_count": 1,
   "metadata": {},
   "outputs": [
    {
     "name": "stderr",
     "output_type": "stream",
     "text": [
      "/home/yuwenzhuo/.conda/envs/gnn/lib/python3.9/site-packages/tqdm/auto.py:21: TqdmWarning: IProgress not found. Please update jupyter and ipywidgets. See https://ipywidgets.readthedocs.io/en/stable/user_install.html\n",
      "  from .autonotebook import tqdm as notebook_tqdm\n"
     ]
    }
   ],
   "source": [
    "import sys\n",
    "\n",
    "sys.path.append(\"..\")\n",
    "import argparse\n",
    "import warnings\n",
    "from logging import getLogger\n",
    "\n",
    "import matplotlib.pyplot as plt\n",
    "import numpy as np\n",
    "import pandas as pd\n",
    "import torch\n",
    "from torch.utils.tensorboard import SummaryWriter\n",
    "from mpl_toolkits.mplot3d import Axes3D\n",
    "from recbole.utils import init_seed, set_color\n",
    "from sklearn.decomposition import PCA\n",
    "\n",
    "from config.configuration import Config\n",
    "from data.dataset import GeneralDataset, GeneralGraphDataset\n",
    "from data.utils import data_reparation\n",
    "from models.embedding import (EmbeddingHelper, EmbeddingModel, EmbeddingType,\n",
    "                              TemplateType)\n",
    "from trainer import Trainer\n",
    "from utils.logger import init_logger\n",
    "from utils.utils import get_flops, get_model\n"
   ]
  },
  {
   "cell_type": "code",
   "execution_count": 2,
   "metadata": {},
   "outputs": [],
   "source": [
    "writer = SummaryWriter(\"./embeddings\")"
   ]
  },
  {
   "cell_type": "code",
   "execution_count": 3,
   "metadata": {},
   "outputs": [],
   "source": [
    "\n",
    "parser = argparse.ArgumentParser()\n",
    "\n",
    "parser.add_argument(\n",
    "    \"--dataset\", \"-d\", type=str, default=\"wsdream-tp\", help=\"name of datasets\"\n",
    ")\n",
    "\n",
    "parser.add_argument(\n",
    "    \"--model\", \"-m\", type=str, default=\"XXX\", help=\"name of models\"\n",
    ")\n",
    "\n",
    "args, _ = parser.parse_known_args()\n",
    "\n",
    "config = Config(model=args.model, dataset=args.dataset)\n",
    "\n",
    "dataset = GeneralGraphDataset(config)\n",
    "train_data, test_data = data_reparation(config, dataset)\n"
   ]
  },
  {
   "cell_type": "code",
   "execution_count": 4,
   "metadata": {},
   "outputs": [
    {
     "data": {
      "text/plain": [
       "tensor([14, 14, 12, 14, 14, 14, 14, 14, 14, 14, 14, 14, 14, 14, 14, 14, 14, 14,\n",
       "        14, 14, 14, 14, 14, 14, 14, 14, 14, 14, 14, 68, 30, 30, 14, 14, 14, 14,\n",
       "        14, 14, 14, 14, 14, 14, 14, 14, 14, 14, 14, 14, 14, 14, 14, 14, 14, 14,\n",
       "        14, 14, 14, 14, 14, 14, 14, 14, 14, 14, 14, 14, 61, 61, 14, 19, 19, 14,\n",
       "        14, 14, 14, 30, 30, 18, 19, 19, 18, 34, 16, 19, 19, 19, 19, 20, 20, 26,\n",
       "        26, 18, 18, 14, 14, 14, 14, 19, 19, 19, 14, 14, 14, 14, 56, 56, 14, 14,\n",
       "        14, 14, 58, 58, 12, 12, 68, 68, 19, 19, 19, 19, 24, 24, 74, 74, 74, 14,\n",
       "        14, 14, 14, 37, 37, 37, 19, 19, 14, 34, 14, 14, 26, 26, 14, 14, 19, 19,\n",
       "        68, 68, 56, 56, 19, 19, 19, 19, 19, 19, 10, 10, 46, 46, 46, 46, 46, 46,\n",
       "        14, 14, 14, 14, 14, 19, 19, 14, 14, 14, 14, 14, 19, 19, 19, 19, 30, 30,\n",
       "        30, 30, 26, 26, 47, 14, 10, 10,  1, 34, 34, 14, 10, 10, 44, 44, 12, 12,\n",
       "        14, 14, 56, 56, 14, 14, 44, 44, 14, 14, 55, 14, 14, 34, 12, 12, 12, 12,\n",
       "        49, 49, 14, 14, 14, 14, 14, 14, 14, 14, 14, 14, 14, 14, 14, 14, 14, 14,\n",
       "        30, 19, 19, 20, 20, 20, 20, 20, 20, 20, 14, 14, 14, 14, 14, 14, 21, 21,\n",
       "         2,  2,  2, 34, 61, 61, 35, 35, 35, 19, 19, 19, 19, 56, 56, 56, 55, 68,\n",
       "        44, 44, 68, 68, 33, 33,  1,  1, 44, 44, 44, 44, 44, 44, 19, 19, 14, 14,\n",
       "        14, 14, 14, 30, 30, 14, 14, 14,  3,  3,  3,  3, 12, 12, 27, 12, 12, 12,\n",
       "        12, 12, 14, 14, 14, 14, 14, 14, 14, 14, 30, 14, 14, 14, 14, 14, 14, 14,\n",
       "        14, 47, 47, 47, 19, 19, 64, 13, 14, 14, 14, 14, 14, 14, 14])"
      ]
     },
     "execution_count": 4,
     "metadata": {},
     "output_type": "execute_result"
    }
   ],
   "source": [
    "dataset.user_feat[\"country\"]"
   ]
  },
  {
   "cell_type": "code",
   "execution_count": 6,
   "metadata": {},
   "outputs": [],
   "source": [
    "def get_pretrained_embedding(dataset, template_type:TemplateType):\n",
    "    eh = EmbeddingHelper()\n",
    "    user_invocations = {}\n",
    "    item_invocations = {}\n",
    "    for uid in dataset.uids_in_inter_feat:\n",
    "        user_invocations[uid] = dataset.inter_data_by_type(\"user\", uid)\n",
    "    for iid in dataset.iids_in_inter_feat:\n",
    "        item_invocations[iid] = dataset.inter_data_by_type(\"item\", iid)\n",
    "    # user_embedding = torch.Tensor(eh.fit(EmbeddingType.USER, template_type,\n",
    "    #                                 EmbeddingModel.INSTRUCTOR_BGE_SMALL, invocations=user_invocations, auto_save=False))\n",
    "    # item_embedding = torch.Tensor(eh.fit(EmbeddingType.ITEM, template_type,\n",
    "    #                                 EmbeddingModel.INSTRUCTOR_BGE_SMALL, invocations=item_invocations, auto_save=False))\n",
    "    \n",
    "    user_embedding = torch.nn.Embedding(\n",
    "            num_embeddings=339, embedding_dim=384).weight\n",
    "    item_embedding = torch.nn.Embedding(\n",
    "            num_embeddings=5825, embedding_dim=384).weight\n",
    "    return user_embedding,item_embedding\n",
    "\n",
    "u_embedding, i_embedding = get_pretrained_embedding(train_data.dataset, TemplateType.IMPROVED)\n",
    "\n",
    "uids = list(range(len(u_embedding)))\n",
    "iids = list(range(len(i_embedding)))\n",
    "\n",
    "writer.add_embedding(u_embedding, metadata=uids, tag=\"User Embeddings - DEFAULT\")\n",
    "writer.add_embedding(i_embedding, metadata=iids, tag=\"Item Embeddings - DEFAULT\")\n"
   ]
  },
  {
   "cell_type": "code",
   "execution_count": 8,
   "metadata": {},
   "outputs": [
    {
     "name": "stdout",
     "output_type": "stream",
     "text": [
      "load INSTRUCTOR_Transformer\n",
      "max_seq_length  512\n",
      "339\n",
      "load INSTRUCTOR_Transformer\n",
      "max_seq_length  512\n",
      "5825\n"
     ]
    }
   ],
   "source": [
    "def get_pretrained_embedding(dataset, template_type:TemplateType):\n",
    "    eh = EmbeddingHelper()\n",
    "    user_invocations = {}\n",
    "    item_invocations = {}\n",
    "    for uid in dataset.uids_in_inter_feat:\n",
    "        user_invocations[uid] = dataset.inter_data_by_type(\"user\", uid)\n",
    "    for iid in dataset.iids_in_inter_feat:\n",
    "        item_invocations[iid] = dataset.inter_data_by_type(\"item\", iid)\n",
    "    user_embedding = torch.Tensor(eh.fit(EmbeddingType.USER, template_type,\n",
    "                                    EmbeddingModel.INSTRUCTOR_BGE_SMALL, invocations=user_invocations, auto_save=False))\n",
    "    item_embedding = torch.Tensor(eh.fit(EmbeddingType.ITEM, template_type,\n",
    "                                    EmbeddingModel.INSTRUCTOR_BGE_SMALL, invocations=item_invocations, auto_save=False))\n",
    "    \n",
    "    return user_embedding, item_embedding\n",
    "\n",
    "u_embedding, i_embedding = get_pretrained_embedding(train_data.dataset, TemplateType.STATIC)\n",
    "\n",
    "uids = list(dataset.user_feat[\"country\"])\n",
    "iids = list(dataset.item_feat[\"country\"])\n",
    "\n",
    "writer.add_embedding(u_embedding, metadata=uids, tag=\"User Embeddings - STATIC_country\")\n",
    "writer.add_embedding(i_embedding, metadata=iids, tag=\"Item Embeddings - STATIC_country\")\n"
   ]
  },
  {
   "cell_type": "code",
   "execution_count": null,
   "metadata": {},
   "outputs": [],
   "source": []
  }
 ],
 "metadata": {
  "kernelspec": {
   "display_name": "gnn",
   "language": "python",
   "name": "python3"
  },
  "language_info": {
   "codemirror_mode": {
    "name": "ipython",
    "version": 3
   },
   "file_extension": ".py",
   "mimetype": "text/x-python",
   "name": "python",
   "nbconvert_exporter": "python",
   "pygments_lexer": "ipython3",
   "version": "3.9.17"
  }
 },
 "nbformat": 4,
 "nbformat_minor": 2
}
